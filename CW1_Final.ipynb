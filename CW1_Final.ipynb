{
  "nbformat": 4,
  "nbformat_minor": 0,
  "metadata": {
    "colab": {
      "name": "CW1_t.ipynb",
      "provenance": [],
      "collapsed_sections": [
        "UmJn1lwBcDgl"
      ]
    },
    "kernelspec": {
      "display_name": "Python 3",
      "language": "python",
      "name": "python3"
    },
    "language_info": {
      "codemirror_mode": {
        "name": "ipython",
        "version": 3
      },
      "file_extension": ".py",
      "mimetype": "text/x-python",
      "name": "python",
      "nbconvert_exporter": "python",
      "pygments_lexer": "ipython3",
      "version": "3.7.4"
    }
  },
  "cells": [
    {
      "cell_type": "markdown",
      "metadata": {
        "colab_type": "text",
        "id": "zmZ40vrjF-D8"
      },
      "source": [
        "# Preprocess\n"
      ]
    },
    {
      "cell_type": "code",
      "metadata": {
        "colab_type": "code",
        "id": "8_9Hpwt8BQDr",
        "colab": {}
      },
      "source": [
        "import pandas as pd\n",
        "import matplotlib.pyplot as plt\n",
        "import numpy as np\n",
        "import os\n",
        "import io\n",
        "from sklearn.model_selection import train_test_split\n",
        "from sklearn.preprocessing import StandardScaler, MinMaxScaler\n",
        "import numpy as np\n",
        "np.seterr(divide='ignore', invalid='ignore')\n",
        "\n",
        "import warnings\n",
        "warnings.filterwarnings('ignore')"
      ],
      "execution_count": 0,
      "outputs": []
    },
    {
      "cell_type": "code",
      "metadata": {
        "id": "a_R3IAb5_cSI",
        "colab_type": "code",
        "outputId": "f44bf3e0-aeeb-4871-9420-8c5fedab6a0c",
        "colab": {
          "resources": {
            "http://localhost:8080/nbextensions/google.colab/files.js": {
              "data": "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",
              "ok": true,
              "headers": [
                [
                  "content-type",
                  "application/javascript"
                ]
              ],
              "status": 200,
              "status_text": ""
            }
          },
          "base_uri": "https://localhost:8080/",
          "height": 77
        }
      },
      "source": [
        "from google.colab import files\n",
        "uploaded = files.upload()"
      ],
      "execution_count": 0,
      "outputs": [
        {
          "output_type": "display_data",
          "data": {
            "text/html": [
              "\n",
              "     <input type=\"file\" id=\"files-9fe9623b-f49a-4d18-990b-b5612c6311a9\" name=\"files[]\" multiple disabled />\n",
              "     <output id=\"result-9fe9623b-f49a-4d18-990b-b5612c6311a9\">\n",
              "      Upload widget is only available when the cell has been executed in the\n",
              "      current browser session. Please rerun this cell to enable.\n",
              "      </output>\n",
              "      <script src=\"/nbextensions/google.colab/files.js\"></script> "
            ],
            "text/plain": [
              "<IPython.core.display.HTML object>"
            ]
          },
          "metadata": {
            "tags": []
          }
        },
        {
          "output_type": "stream",
          "text": [
            "Saving Loan_data_part_I.csv to Loan_data_part_I.csv\n"
          ],
          "name": "stdout"
        }
      ]
    },
    {
      "cell_type": "code",
      "metadata": {
        "id": "l9HC-Lst_ksN",
        "colab_type": "code",
        "colab": {}
      },
      "source": [
        "df_loan = pd.read_csv(io.StringIO(uploaded['Loan_data_part_I.csv'].decode('utf-8')))"
      ],
      "execution_count": 0,
      "outputs": []
    },
    {
      "cell_type": "code",
      "metadata": {
        "colab_type": "code",
        "id": "YZHfr7AdSJcE",
        "outputId": "649d6e34-eed3-4211-bc08-e84f7c1f046c",
        "colab": {
          "base_uri": "https://localhost:8080/",
          "height": 215
        }
      },
      "source": [
        "df_loan = pd.read_csv(\"/Users/wuyating/Desktop/Assignment/Loan_data_part_I.csv\")\n",
        "df_loan.head()"
      ],
      "execution_count": 0,
      "outputs": [
        {
          "output_type": "execute_result",
          "data": {
            "text/html": [
              "<div>\n",
              "<style scoped>\n",
              "    .dataframe tbody tr th:only-of-type {\n",
              "        vertical-align: middle;\n",
              "    }\n",
              "\n",
              "    .dataframe tbody tr th {\n",
              "        vertical-align: top;\n",
              "    }\n",
              "\n",
              "    .dataframe thead th {\n",
              "        text-align: right;\n",
              "    }\n",
              "</style>\n",
              "<table border=\"1\" class=\"dataframe\">\n",
              "  <thead>\n",
              "    <tr style=\"text-align: right;\">\n",
              "      <th></th>\n",
              "      <th>loan_status</th>\n",
              "      <th>loan_amnt</th>\n",
              "      <th>term</th>\n",
              "      <th>int_rate</th>\n",
              "      <th>sub_grade</th>\n",
              "      <th>installment</th>\n",
              "      <th>annual_inc</th>\n",
              "      <th>emp_length</th>\n",
              "      <th>dti</th>\n",
              "      <th>fico_range_high</th>\n",
              "      <th>...</th>\n",
              "      <th>pub_rec</th>\n",
              "      <th>pub_rec_bankruptcies</th>\n",
              "      <th>revol_bal</th>\n",
              "      <th>revol_util</th>\n",
              "      <th>tax_liens</th>\n",
              "      <th>tot_cur_bal</th>\n",
              "      <th>tot_hi_cred_lim</th>\n",
              "      <th>total_acc</th>\n",
              "      <th>total_bal_ex_mort</th>\n",
              "      <th>total_bc_limit</th>\n",
              "    </tr>\n",
              "  </thead>\n",
              "  <tbody>\n",
              "    <tr>\n",
              "      <th>0</th>\n",
              "      <td>Current</td>\n",
              "      <td>4800.0</td>\n",
              "      <td>36.0</td>\n",
              "      <td>19.20</td>\n",
              "      <td>17</td>\n",
              "      <td>176.44</td>\n",
              "      <td>36000.0</td>\n",
              "      <td>10.0</td>\n",
              "      <td>18.97</td>\n",
              "      <td>664.0</td>\n",
              "      <td>...</td>\n",
              "      <td>1.0</td>\n",
              "      <td>1.0</td>\n",
              "      <td>3967.0</td>\n",
              "      <td>94.5</td>\n",
              "      <td>0.0</td>\n",
              "      <td>16019.0</td>\n",
              "      <td>25093.0</td>\n",
              "      <td>13.0</td>\n",
              "      <td>16019.0</td>\n",
              "      <td>4200.0</td>\n",
              "    </tr>\n",
              "    <tr>\n",
              "      <th>1</th>\n",
              "      <td>Current</td>\n",
              "      <td>21000.0</td>\n",
              "      <td>36.0</td>\n",
              "      <td>13.11</td>\n",
              "      <td>8</td>\n",
              "      <td>708.69</td>\n",
              "      <td>90000.0</td>\n",
              "      <td>6.0</td>\n",
              "      <td>16.75</td>\n",
              "      <td>699.0</td>\n",
              "      <td>...</td>\n",
              "      <td>0.0</td>\n",
              "      <td>0.0</td>\n",
              "      <td>35234.0</td>\n",
              "      <td>90.3</td>\n",
              "      <td>0.0</td>\n",
              "      <td>38768.0</td>\n",
              "      <td>54907.0</td>\n",
              "      <td>24.0</td>\n",
              "      <td>38768.0</td>\n",
              "      <td>35900.0</td>\n",
              "    </tr>\n",
              "    <tr>\n",
              "      <th>2</th>\n",
              "      <td>Current</td>\n",
              "      <td>10750.0</td>\n",
              "      <td>36.0</td>\n",
              "      <td>15.80</td>\n",
              "      <td>12</td>\n",
              "      <td>376.88</td>\n",
              "      <td>47000.0</td>\n",
              "      <td>10.0</td>\n",
              "      <td>14.09</td>\n",
              "      <td>679.0</td>\n",
              "      <td>...</td>\n",
              "      <td>0.0</td>\n",
              "      <td>0.0</td>\n",
              "      <td>8247.0</td>\n",
              "      <td>56.9</td>\n",
              "      <td>0.0</td>\n",
              "      <td>14233.0</td>\n",
              "      <td>21285.0</td>\n",
              "      <td>16.0</td>\n",
              "      <td>14233.0</td>\n",
              "      <td>6700.0</td>\n",
              "    </tr>\n",
              "    <tr>\n",
              "      <th>3</th>\n",
              "      <td>Current</td>\n",
              "      <td>10200.0</td>\n",
              "      <td>60.0</td>\n",
              "      <td>15.61</td>\n",
              "      <td>13</td>\n",
              "      <td>245.94</td>\n",
              "      <td>60000.0</td>\n",
              "      <td>6.0</td>\n",
              "      <td>21.30</td>\n",
              "      <td>684.0</td>\n",
              "      <td>...</td>\n",
              "      <td>0.0</td>\n",
              "      <td>0.0</td>\n",
              "      <td>12834.0</td>\n",
              "      <td>70.1</td>\n",
              "      <td>0.0</td>\n",
              "      <td>145664.0</td>\n",
              "      <td>187118.0</td>\n",
              "      <td>32.0</td>\n",
              "      <td>21069.0</td>\n",
              "      <td>7800.0</td>\n",
              "    </tr>\n",
              "    <tr>\n",
              "      <th>4</th>\n",
              "      <td>Current</td>\n",
              "      <td>9500.0</td>\n",
              "      <td>36.0</td>\n",
              "      <td>13.11</td>\n",
              "      <td>8</td>\n",
              "      <td>320.60</td>\n",
              "      <td>106000.0</td>\n",
              "      <td>10.0</td>\n",
              "      <td>9.76</td>\n",
              "      <td>694.0</td>\n",
              "      <td>...</td>\n",
              "      <td>0.0</td>\n",
              "      <td>0.0</td>\n",
              "      <td>18345.0</td>\n",
              "      <td>31.7</td>\n",
              "      <td>0.0</td>\n",
              "      <td>18345.0</td>\n",
              "      <td>57800.0</td>\n",
              "      <td>54.0</td>\n",
              "      <td>18345.0</td>\n",
              "      <td>31200.0</td>\n",
              "    </tr>\n",
              "  </tbody>\n",
              "</table>\n",
              "<p>5 rows × 36 columns</p>\n",
              "</div>"
            ],
            "text/plain": [
              "  loan_status  loan_amnt  term  int_rate  sub_grade  installment  annual_inc  \\\n",
              "0     Current     4800.0  36.0     19.20         17       176.44     36000.0   \n",
              "1     Current    21000.0  36.0     13.11          8       708.69     90000.0   \n",
              "2     Current    10750.0  36.0     15.80         12       376.88     47000.0   \n",
              "3     Current    10200.0  60.0     15.61         13       245.94     60000.0   \n",
              "4     Current     9500.0  36.0     13.11          8       320.60    106000.0   \n",
              "\n",
              "   emp_length    dti  fico_range_high  ...  pub_rec  pub_rec_bankruptcies  \\\n",
              "0        10.0  18.97            664.0  ...      1.0                   1.0   \n",
              "1         6.0  16.75            699.0  ...      0.0                   0.0   \n",
              "2        10.0  14.09            679.0  ...      0.0                   0.0   \n",
              "3         6.0  21.30            684.0  ...      0.0                   0.0   \n",
              "4        10.0   9.76            694.0  ...      0.0                   0.0   \n",
              "\n",
              "   revol_bal  revol_util  tax_liens  tot_cur_bal  tot_hi_cred_lim  total_acc  \\\n",
              "0     3967.0        94.5        0.0      16019.0          25093.0       13.0   \n",
              "1    35234.0        90.3        0.0      38768.0          54907.0       24.0   \n",
              "2     8247.0        56.9        0.0      14233.0          21285.0       16.0   \n",
              "3    12834.0        70.1        0.0     145664.0         187118.0       32.0   \n",
              "4    18345.0        31.7        0.0      18345.0          57800.0       54.0   \n",
              "\n",
              "   total_bal_ex_mort  total_bc_limit  \n",
              "0            16019.0          4200.0  \n",
              "1            38768.0         35900.0  \n",
              "2            14233.0          6700.0  \n",
              "3            21069.0          7800.0  \n",
              "4            18345.0         31200.0  \n",
              "\n",
              "[5 rows x 36 columns]"
            ]
          },
          "metadata": {
            "tags": []
          },
          "execution_count": 2
        }
      ]
    },
    {
      "cell_type": "code",
      "metadata": {
        "id": "6WPk3RTa-UJP",
        "colab_type": "code",
        "outputId": "7d895299-dd46-4bc1-a913-49f69cb80f19",
        "colab": {
          "base_uri": "https://localhost:8080/",
          "height": 638
        }
      },
      "source": [
        "df_loan[\"home_ownership\"]=df_loan[\"home_ownership\"].astype(\"category\")\n",
        "df_loan[\"purpose\"]=df_loan[\"purpose\"].astype(\"category\")\n",
        "df_loan[\"sub_grade\"]=df_loan[\"sub_grade\"].astype(\"category\")\n",
        "df_loan[\"verification_status\"]=df_loan[\"verification_status\"].astype(\"category\")\n",
        "df_loan[\"loan_status\"]=np.where(df_loan[\"loan_status\"] == 'Fail',\"1\",\"0\")\n",
        "df_loan[\"loan_status\"]=df_loan[\"loan_status\"].astype(\"category\")\n",
        "df_loan.dtypes"
      ],
      "execution_count": 0,
      "outputs": [
        {
          "output_type": "execute_result",
          "data": {
            "text/plain": [
              "loan_status              category\n",
              "loan_amnt                 float64\n",
              "term                      float64\n",
              "int_rate                  float64\n",
              "sub_grade                category\n",
              "installment               float64\n",
              "annual_inc                float64\n",
              "emp_length                float64\n",
              "dti                       float64\n",
              "fico_range_high           float64\n",
              "verification_status      category\n",
              "purpose                  category\n",
              "home_ownership           category\n",
              "avg_cur_bal               float64\n",
              "delinq_2yrs               float64\n",
              "delinq_amnt               float64\n",
              "earliest_cr_line          float64\n",
              "inq_last_6mths            float64\n",
              "num_accts_ever_120_pd     float64\n",
              "num_actv_bc_tl            float64\n",
              "num_bc_tl                 float64\n",
              "num_il_tl                 float64\n",
              "num_op_rev_tl             float64\n",
              "num_rev_accts             float64\n",
              "num_tl_90g_dpd_24m        float64\n",
              "percent_bc_gt_75          float64\n",
              "pub_rec                   float64\n",
              "pub_rec_bankruptcies      float64\n",
              "revol_bal                 float64\n",
              "revol_util                float64\n",
              "tax_liens                 float64\n",
              "tot_cur_bal               float64\n",
              "tot_hi_cred_lim           float64\n",
              "total_acc                 float64\n",
              "total_bal_ex_mort         float64\n",
              "total_bc_limit            float64\n",
              "dtype: object"
            ]
          },
          "metadata": {
            "tags": []
          },
          "execution_count": 4
        }
      ]
    },
    {
      "cell_type": "markdown",
      "metadata": {
        "colab_type": "text",
        "id": "vw1xqe5szPQY"
      },
      "source": [
        "\n",
        "#Q1\n",
        "\n"
      ]
    },
    {
      "cell_type": "markdown",
      "metadata": {
        "colab_type": "text",
        "id": "AD1Ub0Tc-4go"
      },
      "source": [
        "\n",
        "1.(10 points) Apply three different machine-learning techniques: linear discriminant analysis (LDA), Random Forest classification (with 100 trees), and 50-NN to the FULL-MODEL and entire dataset in order to predict loan default. To obtain a measure of how good each technique is at using these attributes to predict default, compute the confusion matrix of each measure, using the method of 10-fold cross validation. Complete the following tables with the confusion matrices of each method for prediction (note: please normalize all confusion matrices by dividing each cell by its column-total, such that it reacts the share of predicted observations that fall in that outcome category (Current or Default) and both columns sum up to 1)."
      ]
    },
    {
      "cell_type": "code",
      "metadata": {
        "colab_type": "code",
        "id": "pFJFP1puAGSP",
        "colab": {}
      },
      "source": [
        "y=df_loan[\"loan_status\"]\n",
        "X=df_loan.iloc[:,df_loan.columns!=\"loan_status\"]"
      ],
      "execution_count": 0,
      "outputs": []
    },
    {
      "cell_type": "code",
      "metadata": {
        "colab_type": "code",
        "id": "m7XaDSIvAVRH",
        "colab": {}
      },
      "source": [
        "# Applying k-Fold Cross Validation\n",
        "from sklearn.model_selection import KFold\n",
        "from sklearn.preprocessing import StandardScaler\n",
        "from sklearn.metrics import confusion_matrix\n",
        "from imblearn.under_sampling import RandomUnderSampler"
      ],
      "execution_count": 0,
      "outputs": []
    },
    {
      "cell_type": "code",
      "metadata": {
        "colab_type": "code",
        "id": "VLp2UZ001T0G",
        "colab": {}
      },
      "source": [
        "kf = KFold(n_splits = 10, shuffle = False)"
      ],
      "execution_count": 0,
      "outputs": []
    },
    {
      "cell_type": "code",
      "metadata": {
        "colab_type": "code",
        "id": "D6vkJ1rbAXvK",
        "colab": {}
      },
      "source": [
        "from sklearn.discriminant_analysis import LinearDiscriminantAnalysis\n",
        "from sklearn.ensemble import RandomForestClassifier\n",
        "from sklearn.neighbors import KNeighborsClassifier\n",
        "#from sklearn import metrics\n",
        "# Classifier\n",
        "model_dict = {\n",
        "    'LDA':LinearDiscriminantAnalysis()\n",
        "    ,'Random Forest':RandomForestClassifier(n_estimators=100)\n",
        "    ,'KNN':KNeighborsClassifier(n_neighbors=50)\n",
        "}"
      ],
      "execution_count": 0,
      "outputs": []
    },
    {
      "cell_type": "code",
      "metadata": {
        "colab_type": "code",
        "id": "yk0OcOsbAZVX",
        "colab": {}
      },
      "source": [
        "def main(X, i = 0):  \n",
        "  for model in model_dict:    \n",
        "    # Initialize the array to zero which will store the confusion matrix\n",
        "    array = [[0,0],[0,0]]\n",
        "    \n",
        "    # For each train-test split: train, predict and compute the confusion matrix\n",
        "    for train_index, test_index in kf.split(X):\n",
        "      X_train_raw, X_test_raw = X.iloc[train_index], X.iloc[test_index]\n",
        "      y_train, y_test = y[train_index], y[test_index]\n",
        "\n",
        "      # Whether balancing data\n",
        "      if i == 1:\n",
        "        X_train_raw, y_train = RandomUnderSampler(random_state=0).fit_sample(X_train_raw,y_train)\n",
        "      else:\n",
        "        pass\n",
        "        \n",
        "      # Feature Scaling\n",
        "      stdsc = StandardScaler()\n",
        "      X_train = stdsc.fit_transform(X_train_raw)\n",
        "      X_test = stdsc.transform(X_test_raw)\n",
        "    \n",
        "      # Train the model\n",
        "      model_train = model_dict[model].fit(X_train,y_train)\n",
        "\n",
        "      # Calculate the confusion matrix\n",
        "      cm = confusion_matrix(y_test, model_train.predict(X_test))\n",
        "      cm = cm.T\n",
        "      # Add the score to the previous confusion matrix of previous model\n",
        "      array = array + cm\n",
        "\n",
        "      # Nornalised cfmat\n",
        "      Nor_cfmat = array/ array.astype(np.float).sum(axis=0)\n",
        "      df = pd.DataFrame(Nor_cfmat, index = ['Predicted Not Default', 'Predicted Default'], columns = ['Actual Not Default', 'Actual Default'])\n",
        "        \n",
        "    print(model,'\\tBalanced data' if i == 1  else '\\tImbalanced data')\n",
        "    print(df)\n",
        "    print(\"\\n\")"
      ],
      "execution_count": 0,
      "outputs": []
    },
    {
      "cell_type": "code",
      "metadata": {
        "colab_type": "code",
        "id": "WP06HxFkAcmX",
        "outputId": "b4f6f3b9-40a2-492d-875a-ac36cb9823cb",
        "colab": {
          "base_uri": "https://localhost:8080/",
          "height": 319
        }
      },
      "source": [
        "main(X)"
      ],
      "execution_count": 0,
      "outputs": [
        {
          "output_type": "stream",
          "text": [
            "LDA \tImbalanced data\n",
            "                       Actual Not Default  Actual Default\n",
            "Predicted Not Default            0.933251        0.926703\n",
            "Predicted Default                0.066749        0.073297\n",
            "\n",
            "\n",
            "Random Forest \tImbalanced data\n",
            "                       Actual Not Default  Actual Default\n",
            "Predicted Not Default            0.936794        0.965866\n",
            "Predicted Default                0.063206        0.034134\n",
            "\n",
            "\n",
            "KNN \tImbalanced data\n",
            "                       Actual Not Default  Actual Default\n",
            "Predicted Not Default            0.950746        0.981917\n",
            "Predicted Default                0.049254        0.018083\n",
            "\n",
            "\n"
          ],
          "name": "stdout"
        }
      ]
    },
    {
      "cell_type": "markdown",
      "metadata": {
        "colab_type": "text",
        "id": "TJMy7iLIzWQ_"
      },
      "source": [
        "# Q2"
      ]
    },
    {
      "cell_type": "markdown",
      "metadata": {
        "colab_type": "text",
        "id": "KczoTBCkAjbF"
      },
      "source": [
        "2a.Undersample the number \"Current\" to have 50% \"Fail\" and 50% \n",
        "\"Current\" in your training set. Rerun the three previous machine-learning techniques and compute the confusion matrices.\n",
        "Are the predictions better? Explain\n"
      ]
    },
    {
      "cell_type": "code",
      "metadata": {
        "colab_type": "code",
        "id": "zmgtLTe-Ad9H",
        "outputId": "87fc593c-a6fc-4e55-c745-f87e7ef69914",
        "colab": {
          "base_uri": "https://localhost:8080/",
          "height": 319
        }
      },
      "source": [
        "main(X,1)"
      ],
      "execution_count": 0,
      "outputs": [
        {
          "output_type": "stream",
          "text": [
            "LDA \tBalanced data\n",
            "                       Actual Not Default  Actual Default\n",
            "Predicted Not Default            0.625655        0.348656\n",
            "Predicted Default                0.374345        0.651344\n",
            "\n",
            "\n",
            "Random Forest \tBalanced data\n",
            "                       Actual Not Default  Actual Default\n",
            "Predicted Not Default            0.627943        0.364606\n",
            "Predicted Default                0.372057        0.635394\n",
            "\n",
            "\n",
            "KNN \tBalanced data\n",
            "                       Actual Not Default  Actual Default\n",
            "Predicted Not Default            0.636174         0.38086\n",
            "Predicted Default                0.363826         0.61914\n",
            "\n",
            "\n"
          ],
          "name": "stdout"
        }
      ]
    },
    {
      "cell_type": "markdown",
      "metadata": {
        "colab_type": "text",
        "id": "RTjVyWkIpwdr"
      },
      "source": [
        ""
      ]
    },
    {
      "cell_type": "markdown",
      "metadata": {
        "colab_type": "text",
        "id": "wwXGqKtIZ1ls"
      },
      "source": [
        "2b.In the previous questions, we gave you the hyperparameter for the k-nearest neighbors\n",
        "model (with k=50). This parameter should be found through cross-validation. Write a pseudo-code\n",
        "showing how you would nd the optimal value for this hyperparameter.\n"
      ]
    },
    {
      "cell_type": "code",
      "metadata": {
        "colab_type": "code",
        "id": "k1wuIE5XZ4Wb",
        "colab": {}
      },
      "source": [
        "# Initialize an cross validation error list CV\n",
        "# For each K = 2, 3, 4, ... , 50\n",
        "#   Split 70% dataset into 10 folds\n",
        "#   For j = 1, 2, ... , 10\n",
        "#     Use [j] fold as test set and the remaining folds as training set\n",
        "#     Fit model\n",
        "#     Use fitted model to validate results in test set and record the error\n",
        "#   Calculate mean of the 10 errors and record in CV, marked as K's error.\n",
        "# Select K with lowest error as hyperparameter0"
      ],
      "execution_count": 0,
      "outputs": []
    },
    {
      "cell_type": "markdown",
      "metadata": {
        "colab_type": "text",
        "id": "r-SdCDFkzfFD"
      },
      "source": [
        "#Q3\n",
        "\n"
      ]
    },
    {
      "cell_type": "markdown",
      "metadata": {
        "colab_type": "text",
        "id": "yWp8SH6rgRos"
      },
      "source": [
        "3a.Which loan attributes do you believe are the most informative? Please use your knowledge\n",
        "and intuition to choose 10 of the attributes, and provide a brief justi cation for why you chose these\n",
        "attributes. Let's call this the REDUCED-MODEL"
      ]
    },
    {
      "cell_type": "markdown",
      "metadata": {
        "colab_type": "text",
        "id": "V4W6AabW7Yu_"
      },
      "source": [
        "In our prediction model, it is important to grading clusters of borrowers instead of grading individuals based on their credit behaviors. However, if we manipulate some features incorrectly, it will overfitting or underfitting our analysis. First, some column discloses information after the loan has already been funded. Second, some column does not alter the borrower's ability to pay back the loan. Third, some column contains redundant information. Therefore, after analyzing each column in DataDictionary, we can drop these columns in which content incorrect features, and choose 10 column to analysis.\n"
      ]
    },
    {
      "cell_type": "markdown",
      "metadata": {
        "colab_type": "text",
        "id": "5Qk07l6sIefk"
      },
      "source": [
        "1.int_rate 2.loan_amnt 3.installment 4.emp_length 5.home_ownership 6.annual_inc 7.num_accts_ever_120_pd 8.avg_cur_bal 9.term 10.revol_util "
      ]
    },
    {
      "cell_type": "markdown",
      "metadata": {
        "colab_type": "text",
        "id": "Hgfi8cZ57ZvO"
      },
      "source": [
        "3b.Apply the set of di erent machine-learning techniques with one change { logistic regression instead of LDA (i.e., logistic regression, Random Forest classi cation, and 50-NN) to the REDUCED-MODEL dataset in order to predict loan default. Again, to obtain a measure of how good these techniques are at predicting default, compute their confusion matrices using 10-fold cross validation.\n",
        "Please undersample again using the number \"Current\" to have 50% \"Fail\" and 50% \"Current\" in your\n",
        "subsample.\n"
      ]
    },
    {
      "cell_type": "code",
      "metadata": {
        "colab_type": "code",
        "id": "PHupJJUc9Btn",
        "outputId": "3d82b70b-e3e8-4107-aa8b-a14f41766389",
        "colab": {
          "base_uri": "https://localhost:8080/",
          "height": 195
        }
      },
      "source": [
        "used_cols=['int_rate','loan_amnt','installment','emp_length','home_ownership','annual_inc','num_accts_ever_120_pd','avg_cur_bal','term','revol_util']\n",
        "reduced_data = df_loan[used_cols]\n",
        "reduced_data.head()"
      ],
      "execution_count": 0,
      "outputs": [
        {
          "output_type": "execute_result",
          "data": {
            "text/html": [
              "<div>\n",
              "<style scoped>\n",
              "    .dataframe tbody tr th:only-of-type {\n",
              "        vertical-align: middle;\n",
              "    }\n",
              "\n",
              "    .dataframe tbody tr th {\n",
              "        vertical-align: top;\n",
              "    }\n",
              "\n",
              "    .dataframe thead th {\n",
              "        text-align: right;\n",
              "    }\n",
              "</style>\n",
              "<table border=\"1\" class=\"dataframe\">\n",
              "  <thead>\n",
              "    <tr style=\"text-align: right;\">\n",
              "      <th></th>\n",
              "      <th>int_rate</th>\n",
              "      <th>loan_amnt</th>\n",
              "      <th>installment</th>\n",
              "      <th>emp_length</th>\n",
              "      <th>home_ownership</th>\n",
              "      <th>annual_inc</th>\n",
              "      <th>num_accts_ever_120_pd</th>\n",
              "      <th>avg_cur_bal</th>\n",
              "      <th>term</th>\n",
              "      <th>revol_util</th>\n",
              "    </tr>\n",
              "  </thead>\n",
              "  <tbody>\n",
              "    <tr>\n",
              "      <th>0</th>\n",
              "      <td>19.20</td>\n",
              "      <td>4800.0</td>\n",
              "      <td>176.44</td>\n",
              "      <td>10.0</td>\n",
              "      <td>1</td>\n",
              "      <td>36000.0</td>\n",
              "      <td>0.0</td>\n",
              "      <td>3204.0</td>\n",
              "      <td>36.0</td>\n",
              "      <td>94.5</td>\n",
              "    </tr>\n",
              "    <tr>\n",
              "      <th>1</th>\n",
              "      <td>13.11</td>\n",
              "      <td>21000.0</td>\n",
              "      <td>708.69</td>\n",
              "      <td>6.0</td>\n",
              "      <td>5</td>\n",
              "      <td>90000.0</td>\n",
              "      <td>0.0</td>\n",
              "      <td>4846.0</td>\n",
              "      <td>36.0</td>\n",
              "      <td>90.3</td>\n",
              "    </tr>\n",
              "    <tr>\n",
              "      <th>2</th>\n",
              "      <td>15.80</td>\n",
              "      <td>10750.0</td>\n",
              "      <td>376.88</td>\n",
              "      <td>10.0</td>\n",
              "      <td>4</td>\n",
              "      <td>47000.0</td>\n",
              "      <td>0.0</td>\n",
              "      <td>1423.0</td>\n",
              "      <td>36.0</td>\n",
              "      <td>56.9</td>\n",
              "    </tr>\n",
              "    <tr>\n",
              "      <th>3</th>\n",
              "      <td>15.61</td>\n",
              "      <td>10200.0</td>\n",
              "      <td>245.94</td>\n",
              "      <td>6.0</td>\n",
              "      <td>1</td>\n",
              "      <td>60000.0</td>\n",
              "      <td>3.0</td>\n",
              "      <td>12139.0</td>\n",
              "      <td>60.0</td>\n",
              "      <td>70.1</td>\n",
              "    </tr>\n",
              "    <tr>\n",
              "      <th>4</th>\n",
              "      <td>13.11</td>\n",
              "      <td>9500.0</td>\n",
              "      <td>320.60</td>\n",
              "      <td>10.0</td>\n",
              "      <td>1</td>\n",
              "      <td>106000.0</td>\n",
              "      <td>4.0</td>\n",
              "      <td>966.0</td>\n",
              "      <td>36.0</td>\n",
              "      <td>31.7</td>\n",
              "    </tr>\n",
              "  </tbody>\n",
              "</table>\n",
              "</div>"
            ],
            "text/plain": [
              "   int_rate  loan_amnt  installment  ...  avg_cur_bal  term  revol_util\n",
              "0     19.20     4800.0       176.44  ...       3204.0  36.0        94.5\n",
              "1     13.11    21000.0       708.69  ...       4846.0  36.0        90.3\n",
              "2     15.80    10750.0       376.88  ...       1423.0  36.0        56.9\n",
              "3     15.61    10200.0       245.94  ...      12139.0  60.0        70.1\n",
              "4     13.11     9500.0       320.60  ...        966.0  36.0        31.7\n",
              "\n",
              "[5 rows x 10 columns]"
            ]
          },
          "metadata": {
            "tags": []
          },
          "execution_count": 58
        }
      ]
    },
    {
      "cell_type": "code",
      "metadata": {
        "colab_type": "code",
        "id": "iac08l-mbAE6",
        "colab": {}
      },
      "source": [
        "from sklearn.linear_model import SGDClassifier\n",
        "from sklearn.linear_model import LogisticRegression"
      ],
      "execution_count": 0,
      "outputs": []
    },
    {
      "cell_type": "code",
      "metadata": {
        "colab_type": "code",
        "id": "2JY2XKDjbA6I",
        "colab": {}
      },
      "source": [
        "# Classifier\n",
        "model_dict2 = {\n",
        "    'LogisticReg':LogisticRegression()\n",
        "    ,'Random Forest':RandomForestClassifier(n_estimators=100)\n",
        "    ,'KNN':KNeighborsClassifier(n_neighbors=50)\n",
        "}"
      ],
      "execution_count": 0,
      "outputs": []
    },
    {
      "cell_type": "code",
      "metadata": {
        "colab_type": "code",
        "id": "ebhxztILbBFC",
        "colab": {}
      },
      "source": [
        "def reduce(reduced_data, i = 0):  \n",
        "  for model in model_dict2:    \n",
        "    # Initialize the array to zero which will store the confusion matrix\n",
        "    array = [[0,0],[0,0]]\n",
        "    \n",
        "    # For each train-test split: train, predict and compute the confusion matrix\n",
        "    for train_index, test_index in kf.split(reduced_data):\n",
        "      X_train_raw, X_test_raw = reduced_data.iloc[train_index], reduced_data.iloc[test_index]\n",
        "      y_train, y_test = y[train_index], y[test_index]\n",
        "\n",
        "      # Whether balancing data\n",
        "      if i == 1:\n",
        "        X_train_raw, y_train = RandomUnderSampler(random_state=0).fit_sample(X_train_raw,y_train)\n",
        "      else:\n",
        "        pass\n",
        "        \n",
        "      # Feature Scaling\n",
        "      stdsc = StandardScaler()\n",
        "      X_train = stdsc.fit_transform(X_train_raw)\n",
        "      X_test = stdsc.transform(X_test_raw)\n",
        "    \n",
        "      # Train the model\n",
        "      model_train2 = model_dict2[model].fit(X_train,y_train)\n",
        "\n",
        "      # Calculate the confusion matrix\n",
        "      cm = confusion_matrix(y_test, model_train2.predict(X_test))\n",
        "      cm = cm.T\n",
        "      # Add the score to the previous confusion matrix of previous model\n",
        "      array = array + cm\n",
        "\n",
        "      # Nornalised cfmat\n",
        "      Nor_cfmat = array/ array.astype(np.float).sum(axis=0)\n",
        "      df = pd.DataFrame(Nor_cfmat, index = ['Predicted Not Default', 'Predicted Default'], columns = ['Actual Not Default', 'Actual Default'])\n",
        "        \n",
        "    print(model,'\\tBalanced data' if i == 1  else '\\tImbalanced data')\n",
        "    print(df)\n",
        "    print(\"\\n\")"
      ],
      "execution_count": 0,
      "outputs": []
    },
    {
      "cell_type": "code",
      "metadata": {
        "colab_type": "code",
        "id": "osxCi7Wr-vdv",
        "outputId": "f6404001-4bb1-465d-c73e-75e67304c4bd",
        "colab": {
          "base_uri": "https://localhost:8080/",
          "height": 319
        }
      },
      "source": [
        "reduce(reduced_data,1)"
      ],
      "execution_count": 0,
      "outputs": [
        {
          "output_type": "stream",
          "text": [
            "LogisticReg \tBalanced data\n",
            "                       Actual Not Default  Actual Default\n",
            "Predicted Not Default            0.640714        0.372479\n",
            "Predicted Default                0.359286        0.627521\n",
            "\n",
            "\n",
            "Random Forest \tBalanced data\n",
            "                       Actual Not Default  Actual Default\n",
            "Predicted Not Default            0.616096        0.385737\n",
            "Predicted Default                0.383904        0.614263\n",
            "\n",
            "\n",
            "KNN \tBalanced data\n",
            "                       Actual Not Default  Actual Default\n",
            "Predicted Not Default             0.62584        0.378168\n",
            "Predicted Default                 0.37416        0.621832\n",
            "\n",
            "\n"
          ],
          "name": "stdout"
        }
      ]
    },
    {
      "cell_type": "markdown",
      "metadata": {
        "colab_type": "text",
        "id": "4Q64LlgwaAEk"
      },
      "source": [
        "#Q4\n"
      ]
    },
    {
      "cell_type": "markdown",
      "metadata": {
        "colab_type": "text",
        "id": "NFLvTcE5aDCX"
      },
      "source": [
        "Choosing the right model depends on the context in which it is used. Can you think of examples where one would worry more about false positives than false negatives, and vice versa?\n",
        "Another way to compare models is to compute the ROC (receiver-operating characteristic) curve that varies the classi cation threshold and shows the true positive rate (share of defaulters correctly classi ed)\n",
        "against the false positive rate (share of non-defaulters incorrectly classi ed). Plot the ROC curves and compute the area-under-the-curve (AUC) for a LDA and 50-NN model and explain which model should\n",
        "be preferred in your opinion. Hint: Do that without 10-fold cross-validation.\n"
      ]
    },
    {
      "cell_type": "code",
      "metadata": {
        "colab_type": "code",
        "id": "cfndIjDeKGHR",
        "colab": {}
      },
      "source": [
        "from sklearn.metrics import roc_curve, roc_auc_score\n",
        "import matplotlib.pyplot as plt\n",
        "from sklearn.pipeline import Pipeline\n",
        "from sklearn.datasets import make_classification\n",
        "import sklearn.metrics as metrics"
      ],
      "execution_count": 0,
      "outputs": []
    },
    {
      "cell_type": "code",
      "metadata": {
        "colab_type": "code",
        "id": "Ehv1gKaMemtq",
        "colab": {}
      },
      "source": [
        "# Classifier\n",
        "model_dict3 = {\n",
        "    'LDA':LinearDiscriminantAnalysis()\n",
        "    ,'KNN':KNeighborsClassifier(n_neighbors=50)\n",
        "}"
      ],
      "execution_count": 0,
      "outputs": []
    },
    {
      "cell_type": "code",
      "metadata": {
        "colab_type": "code",
        "id": "EXR73WJZleKz",
        "colab": {}
      },
      "source": [
        "trainX, testX, trainy, testy = train_test_split(X, y, test_size=0.2, random_state=0)\n"
      ],
      "execution_count": 0,
      "outputs": []
    },
    {
      "cell_type": "code",
      "metadata": {
        "colab_type": "code",
        "id": "KLHCj6L0spTp",
        "outputId": "f899b42b-c1bf-4412-a849-fe3021c2c4db",
        "colab": {
          "base_uri": "https://localhost:8080/",
          "height": 606
        }
      },
      "source": [
        "for model in model_dict3:\n",
        "  # calculate the fpr and tpr for all thresholds of the classification\n",
        "  pipe_lr = Pipeline([('sc',StandardScaler()),\n",
        "           ('clf',model_dict3[model])\n",
        "           ])\n",
        "  \n",
        "  probs = pipe_lr.fit(trainX,trainy).predict_proba(testX)\n",
        "  preds = probs[:,1]\n",
        "  fpr, tpr, threshold = metrics.roc_curve(testy, preds, pos_label=\"1\")\n",
        "  roc_auc = metrics.auc(fpr, tpr)\n",
        "  print('AUC: %.5f' % roc_auc)\n",
        "  # method I: plt\n",
        "\n",
        "  plt.title('Receiver Operating Characteristic')\n",
        "  plt.plot(fpr, tpr, 'b', label = 'AUC = %0.2f' % roc_auc)\n",
        "  plt.legend(loc = 'lower right')\n",
        "  plt.plot([0, 1], [0, 1],'r--')\n",
        "  plt.xlim([0, 1])\n",
        "  plt.ylim([0, 1])\n",
        "  plt.ylabel('True Positive Rate')\n",
        "  plt.xlabel('False Positive Rate')\n",
        "  plt.show()\n"
      ],
      "execution_count": 0,
      "outputs": [
        {
          "output_type": "stream",
          "text": [
            "AUC: 0.69128\n"
          ],
          "name": "stdout"
        },
        {
          "output_type": "display_data",
          "data": {
            "image/png": "[encoded data removed]",
            "text/plain": [
              "<Figure size 432x288 with 1 Axes>"
            ]
          },
          "metadata": {
            "tags": []
          }
        },
        {
          "output_type": "stream",
          "text": [
            "AUC: 0.67236\n"
          ],
          "name": "stdout"
        },
        {
          "output_type": "display_data",
          "data": {
            "image/png": "[encoded data removed]",
            "text/plain": [
              "<Figure size 432x288 with 1 Axes>"
            ]
          },
          "metadata": {
            "tags": []
          }
        }
      ]
    },
    {
      "cell_type": "markdown",
      "metadata": {
        "colab_type": "text",
        "id": "UfssxKLOaekn"
      },
      "source": [
        "# Q5\n"
      ]
    },
    {
      "cell_type": "markdown",
      "metadata": {
        "colab_type": "text",
        "id": "SziLvv_bbzKL"
      },
      "source": [
        "5.(10 points) Please explain in your own words how you might use the Lasso estimation method to\n",
        "select a subset of attributes. In particular, please explain what the Lasso parameter is for, and how\n",
        "increases in change the estimates you obtain from the Lasso.\n"
      ]
    },
    {
      "cell_type": "markdown",
      "metadata": {
        "colab_type": "text",
        "id": "q6US2cHCb2xs"
      },
      "source": [
        "Lasso parameter λ regularizes the coefficients such that if the coefficients take large values the optimization function is penalized. When λ = 0, the coefficients as simple linear regression. When 0 < λ < ∞, the coefficients between 0 and that of simple linear regression. When λ = ∞, All coefficients zero. Therefore, the minimization objective equals LS Objects + λ * (sum of the absolute value of coefficients)"
      ]
    },
    {
      "cell_type": "markdown",
      "metadata": {
        "colab_type": "text",
        "id": "kWTondYXcAJF"
      },
      "source": [
        "\n",
        "#Q6"
      ]
    },
    {
      "cell_type": "markdown",
      "metadata": {
        "colab_type": "text",
        "id": "UnRF0eIpb3fm"
      },
      "source": [
        "6. (5 points) First, let's use the Lasso approach, and compare it to previous methods. Apply the\n",
        "Logistic Regression model with Lasso penalization method to the to the default response variable (1 or\n",
        "0), and the entire set of attributes. For now, set to 0.1. Compute the resulting confusion matrix using\n",
        "10-fold cross-validation (fill in the table).\n"
      ]
    },
    {
      "cell_type": "code",
      "metadata": {
        "colab_type": "code",
        "id": "gBh2eYczWkAG",
        "colab": {}
      },
      "source": [
        "from sklearn.linear_model import LogisticRegressionCV, LogisticRegression\n",
        "from sklearn.metrics import mean_squared_error\n",
        "from sklearn import linear_model\n",
        "from sklearn.datasets import load_breast_cancer"
      ],
      "execution_count": 0,
      "outputs": []
    },
    {
      "cell_type": "code",
      "metadata": {
        "colab_type": "code",
        "id": "U4lixt1d2A4c",
        "colab": {}
      },
      "source": [
        "logistic_lasso= LogisticRegressionCV(Cs = 10, cv=10, penalty = 'l1', solver = 'liblinear', )\n",
        "Model6 = logistic_lasso.fit(X,y)"
      ],
      "execution_count": 0,
      "outputs": []
    },
    {
      "cell_type": "code",
      "metadata": {
        "id": "C-jXuvFBK268",
        "colab_type": "code",
        "colab": {}
      },
      "source": [
        "y_predicted =  Model6.predict(X)\n",
        "c = confusion_matrix(y, y_predicted)"
      ],
      "execution_count": 0,
      "outputs": []
    },
    {
      "cell_type": "code",
      "metadata": {
        "id": "tSm8saT_K5Su",
        "colab_type": "code",
        "outputId": "99802192-3129-433e-f8af-95d59c150919",
        "colab": {
          "base_uri": "https://localhost:8080/",
          "height": 67
        }
      },
      "source": [
        "Nor_cfmat = c/ c.astype(np.float).sum(axis=0)\n",
        "df_q6 = pd.DataFrame(Nor_cfmat, index = ['Predicted Not Default', 'Predicted Default'], columns = ['Actual Not Default', 'Actual Default'])\n",
        "print(df_q6)"
      ],
      "execution_count": 0,
      "outputs": [
        {
          "output_type": "stream",
          "text": [
            "                       Actual Not Default  Actual Default\n",
            "Predicted Not Default            0.754048        0.458965\n",
            "Predicted Default                0.245952        0.541035\n"
          ],
          "name": "stdout"
        }
      ]
    },
    {
      "cell_type": "markdown",
      "metadata": {
        "colab_type": "text",
        "id": "UmJn1lwBcDgl"
      },
      "source": [
        "#Q7"
      ]
    },
    {
      "cell_type": "markdown",
      "metadata": {
        "colab_type": "text",
        "id": "Rk2Mq5m5b8uQ"
      },
      "source": [
        "# 7. (10 points) \n",
        "Next, apply the Logistic Regression model with Lasso penalization method to the default\n",
        "response variable (1 or 0), and the entire set of attributes on the entire dataset (not inside 10-fold\n",
        "cross-validation) and once again, constrain the model to have at most 10 attributes in it (aim for 8 to\n",
        "10). Let's call the resulting set of attributes the LASSO-MODEL. What is the value of now? Which\n",
        "attributes are those? Did your intuition about the correct set of attributes in the REDUCED-MODEL\n",
        "match the algorithmic results that you obtained from the LASSO-MODEL? Discuss.\n",
        "Hint: Start with di erent values for , e.g. 1e-15, 1e-10, 1e-8, 1e-5,1e-4, 1e-3,1e-2, 1, 5, 10, check\n",
        "the number of coe cients that are zero, and iterate the value of until you get the desired number of\n",
        "coe cients that are shrunk to zero.\n"
      ]
    },
    {
      "cell_type": "code",
      "metadata": {
        "colab_type": "code",
        "id": "M_YItXz8xCye",
        "outputId": "688315fd-da87-474d-8c15-059091959d98",
        "colab": {
          "base_uri": "https://localhost:8080/",
          "height": 185
        }
      },
      "source": [
        "alpha = [1e-15, 1e-10, 1e-8, 1e-5,1e-4, 1e-3,1e-2, 1, 5, 10]\n",
        "coefficients = []\n",
        "for c in  alpha:\n",
        "    LASSO = LogisticRegression(penalty='l1', C=c, solver='liblinear')\n",
        "    LASSO_MODEL = LASSO.fit(X,y)\n",
        "    print('alpha:',c )\n",
        "    coefficients.append(LASSO_MODEL.coef_)"
      ],
      "execution_count": 0,
      "outputs": [
        {
          "output_type": "stream",
          "text": [
            "alpha: 1e-15\n",
            "alpha: 1e-10\n",
            "alpha: 1e-08\n",
            "alpha: 1e-05\n",
            "alpha: 0.0001\n",
            "alpha: 0.001\n",
            "alpha: 0.01\n",
            "alpha: 1\n",
            "alpha: 5\n",
            "alpha: 10\n"
          ],
          "name": "stdout"
        }
      ]
    },
    {
      "cell_type": "code",
      "metadata": {
        "id": "9pOCfbD5_07v",
        "colab_type": "code",
        "outputId": "4edf0e6d-d96b-485d-f3ab-4bb01b2282c6",
        "colab": {
          "base_uri": "https://localhost:8080/",
          "height": 185
        }
      },
      "source": [
        "for i in range(10):\n",
        "    print('C:', alpha[i],'|','Number of non-zero coefficients:',np.count_nonzero(coefficients[i]))"
      ],
      "execution_count": 0,
      "outputs": [
        {
          "output_type": "stream",
          "text": [
            "C: 1e-15 | Number of non-zero coefficients: 0\n",
            "C: 1e-10 | Number of non-zero coefficients: 0\n",
            "C: 1e-08 | Number of non-zero coefficients: 2\n",
            "C: 1e-05 | Number of non-zero coefficients: 12\n",
            "C: 0.0001 | Number of non-zero coefficients: 15\n",
            "C: 0.001 | Number of non-zero coefficients: 20\n",
            "C: 0.01 | Number of non-zero coefficients: 29\n",
            "C: 1 | Number of non-zero coefficients: 35\n",
            "C: 5 | Number of non-zero coefficients: 35\n",
            "C: 10 | Number of non-zero coefficients: 35\n"
          ],
          "name": "stdout"
        }
      ]
    },
    {
      "cell_type": "code",
      "metadata": {
        "id": "dI46d_up_18S",
        "colab_type": "code",
        "outputId": "6f3f26b7-4519-481e-a0a5-5efcee09e243",
        "colab": {
          "base_uri": "https://localhost:8080/",
          "height": 185
        }
      },
      "source": [
        "alpha1 = [0.001, 0.002,0.003,0.004,0.005, 0.006,0.007,0.008,0.009,0.01]\n",
        "coefficients1 = []\n",
        "for d in  alpha1:\n",
        "    LASSO1 = LogisticRegression(penalty='l1', C=d, solver='liblinear')\n",
        "    LASSO_MODEL1 = LASSO1.fit(X,y)\n",
        "    print('alpha1:',d )\n",
        "    coefficients1.append(LASSO_MODEL1.coef_)\n"
      ],
      "execution_count": 0,
      "outputs": [
        {
          "output_type": "stream",
          "text": [
            "alpha1: 0.001\n",
            "alpha1: 0.002\n",
            "alpha1: 0.003\n",
            "alpha1: 0.004\n",
            "alpha1: 0.005\n",
            "alpha1: 0.006\n",
            "alpha1: 0.007\n",
            "alpha1: 0.008\n",
            "alpha1: 0.009\n",
            "alpha1: 0.01\n"
          ],
          "name": "stdout"
        }
      ]
    },
    {
      "cell_type": "code",
      "metadata": {
        "id": "htGzqNY0_2-h",
        "colab_type": "code",
        "outputId": "b85051b0-cc00-4208-a2a5-2cc30189edde",
        "colab": {
          "base_uri": "https://localhost:8080/",
          "height": 185
        }
      },
      "source": [
        "for i in range(10):\n",
        "    print('C:', alpha1[i],'|','Number of non-zero coefficients:',np.count_nonzero(coefficients1[i]))"
      ],
      "execution_count": 0,
      "outputs": [
        {
          "output_type": "stream",
          "text": [
            "C: 0.001 | Number of non-zero coefficients: 20\n",
            "C: 0.002 | Number of non-zero coefficients: 24\n",
            "C: 0.003 | Number of non-zero coefficients: 24\n",
            "C: 0.004 | Number of non-zero coefficients: 26\n",
            "C: 0.005 | Number of non-zero coefficients: 27\n",
            "C: 0.006 | Number of non-zero coefficients: 27\n",
            "C: 0.007 | Number of non-zero coefficients: 28\n",
            "C: 0.008 | Number of non-zero coefficients: 29\n",
            "C: 0.009 | Number of non-zero coefficients: 29\n",
            "C: 0.01 | Number of non-zero coefficients: 29\n"
          ],
          "name": "stdout"
        }
      ]
    },
    {
      "cell_type": "code",
      "metadata": {
        "id": "Akv5u_Mf_3da",
        "colab_type": "code",
        "outputId": "87f42505-c965-4272-e386-1aea9a283400",
        "colab": {
          "base_uri": "https://localhost:8080/",
          "height": 34
        }
      },
      "source": [
        "lamda = 1/0.009\n",
        "print(lamda)"
      ],
      "execution_count": 0,
      "outputs": [
        {
          "output_type": "stream",
          "text": [
            "111.11111111111111\n"
          ],
          "name": "stdout"
        }
      ]
    },
    {
      "cell_type": "markdown",
      "metadata": {
        "colab_type": "text",
        "id": "6AuMSuBscH5c"
      },
      "source": [
        "#Q8"
      ]
    },
    {
      "cell_type": "markdown",
      "metadata": {
        "colab_type": "text",
        "id": "O3yAwcWXcPfK"
      },
      "source": [
        "*8*.Congratulations! You have now estimated a set of different models for default forecasting. Now assume that you are running a bank. Please pick one set of attributes and one algorithm to implement in the bank. Do you now have sufficient information to run a loan business? What else might\n",
        "you need to consider?"
      ]
    },
    {
      "cell_type": "markdown",
      "metadata": {
        "colab_type": "text",
        "id": "qYIY-DtJcRcR"
      },
      "source": [
        "Assume we are running a bank, we are going to create a model for assessing loan risk, identify the safest default risk under different features. \n",
        "The first step is feature selection which involved identifying which of the provided characteristics were most indicative. We plan to use  Lasso regression to reduce over-fitting and select a set of ten attributes. \n",
        "The next step is creating a model that required taking those features and using the Logistic model to determine the probability of default by given the features we are selected.\n",
        "\n",
        "However, under this assumption, we still do not have sufficient information to run a loan business. On the one hand, the dataset of attributes we are picked probably contains too much missing data. Although the attributes could get a higher coefficient value, we still need to use their mean instead.  Under this preprocess, it could introduce some bias. On the other hand, there is not a universal algorithm that could perfectly fit every dataset. If we only use one algorithm on implementation, it may cause the execution strategy for this approach to be not comparable.\n"
      ]
    },
    {
      "cell_type": "markdown",
      "metadata": {
        "colab_type": "text",
        "id": "uOKDeZExcUJl"
      },
      "source": [
        "#Q9"
      ]
    },
    {
      "cell_type": "markdown",
      "metadata": {
        "colab_type": "text",
        "id": "XMsR388PcVc8"
      },
      "source": [
        "9. (5 points) How do the results using the full set of attributes (FULL-MODEL) compare to those that\n",
        "you personally selected (REDUCED-MODEL) in order to predict if a loan will default? What do you\n",
        "think is more important in this particular example, the set of attributes, or the classi cation technique?\n",
        "Discuss.\n"
      ]
    },
    {
      "cell_type": "markdown",
      "metadata": {
        "colab_type": "text",
        "id": "YvzLrkyHcX2O"
      },
      "source": [
        "The result of the full set of attributes implies around 30% of people will be a default, but the reduced model shows this number should be lower.  In this case, when we manipulate some features incorrectly, it will overfitting or underfitting our analysis. For example, some attributes leak information after the loan has already been funded, some does not alter the borrower's ability to pay back the loan. However, for each classification technique, the results are quite close. Therefore, it is more important to use a different set of attributes. \n"
      ]
    },
    {
      "cell_type": "markdown",
      "metadata": {
        "colab_type": "text",
        "id": "B0xUBcR_ceU3"
      },
      "source": [
        "#Q10\n"
      ]
    },
    {
      "cell_type": "markdown",
      "metadata": {
        "colab_type": "text",
        "id": "O8QQzoj0cfwa"
      },
      "source": [
        "10. (5 points) Are these the best models you could possibly create? Name one other possible classi\n",
        "cation technique and any additional attributes that you might be able to add in order to improve the\n",
        "confusion matrix. Please justify your choices.\n"
      ]
    },
    {
      "cell_type": "markdown",
      "metadata": {
        "colab_type": "text",
        "id": "C9lWR_Lycg3w"
      },
      "source": [
        "We want to use Recursive Feature Elimination (RFE) as another way to choose attributes. RFE is repeatedly constructing a model and choose either the best or worst performing feature, then repeating the process with the rest of the features. This process is applied until all features in the dataset are exhausted. "
      ]
    },
    {
      "cell_type": "code",
      "metadata": {
        "colab_type": "code",
        "id": "Hlnt6nvNqFtZ",
        "colab": {}
      },
      "source": [
        "y=df_loan[\"loan_status\"]\n",
        "X=df_loan.iloc[:,df_loan.columns!=\"loan_status\"]\n",
        "from imblearn.over_sampling import SMOTE  \n",
        "\n",
        "X_train_raw, y_train = RandomUnderSampler(random_state=0).fit_sample(X_train_raw,y_train)\n",
        "os = SMOTE(random_state=0)\n",
        "X_train, X_test, y_train, y_test = train_test_split(X, y, test_size=0.3, random_state=0)\n",
        "columns = X_train.columns\n",
        "os_data_X,os_data_y=os.fit_sample(X_train, y_train)\n",
        "os_data_X = pd.DataFrame(data=os_data_X,columns=columns )\n",
        "os_data_y= pd.DataFrame(data=os_data_y,columns=['target'])"
      ],
      "execution_count": 0,
      "outputs": []
    },
    {
      "cell_type": "code",
      "metadata": {
        "colab_type": "code",
        "id": "NzkijZIgHmyp",
        "outputId": "ab6241ab-0b52-48a8-efdd-70d0d2c4ff53",
        "colab": {
          "base_uri": "https://localhost:8080/",
          "height": 101
        }
      },
      "source": [
        "df_loan_vars=df_loan.columns.values.tolist()\n",
        "from sklearn.feature_selection import RFE\n",
        "from sklearn.linear_model import LogisticRegression\n",
        "logreg = LogisticRegression()\n",
        "rfe = RFE(logreg, 10)\n",
        "rfe = rfe.fit(os_data_X, os_data_y.values.ravel())\n",
        "print(rfe.support_)\n",
        "print(rfe.ranking_)"
      ],
      "execution_count": 0,
      "outputs": [
        {
          "output_type": "stream",
          "text": [
            "[False  True  True  True False False False  True  True False  True False\n",
            " False False False False False False False  True False  True  True False\n",
            " False False False False  True False False False False False False]\n",
            "[ 5  1  1  1  4 11 19  1  1 16  1 15  6 20  7  2 14 21 13  1 17  1  1 23\n",
            "  3 25 24 12  1 26  9 10 18 22  8]\n"
          ],
          "name": "stdout"
        }
      ]
    },
    {
      "cell_type": "markdown",
      "metadata": {
        "colab_type": "text",
        "id": "9gNaLNWJ20u1"
      },
      "source": [
        "The RFE has helped us select the following features: 'term','int_rate','sub_grade','dti','fico_range_high','purpose','num_actv_bc_tl','num_il_tl','num_op_rev_tl','revol_bal'"
      ]
    },
    {
      "cell_type": "code",
      "metadata": {
        "colab_type": "code",
        "id": "VE-OlUwG39rE",
        "outputId": "b7eed1dc-f935-4a4e-fc11-b3cda8563779",
        "colab": {
          "base_uri": "https://localhost:8080/",
          "height": 34
        }
      },
      "source": [
        "cols = ['term','int_rate','sub_grade','dti','fico_range_high','purpose','num_actv_bc_tl','num_il_tl','num_op_rev_tl','revol_bal']\n",
        "X=os_data_X[cols]\n",
        "y=['target']\n",
        "\n",
        "logreg = LogisticRegression()\n",
        "logreg.fit(X_train, y_train)\n",
        "\n",
        "y_pred = logreg.predict(X_test)\n",
        "print('Accuracy of logistic regression classifier on test set: {:.2f}'.format(logreg.score(X_test, y_test)))"
      ],
      "execution_count": 0,
      "outputs": [
        {
          "output_type": "stream",
          "text": [
            "Accuracy of logistic regression classifier on test set: 0.73\n"
          ],
          "name": "stdout"
        }
      ]
    },
    {
      "cell_type": "code",
      "metadata": {
        "colab_type": "code",
        "id": "tL15clW754Ps",
        "outputId": "8475f99c-3298-46fe-d4ab-67b399ac2586",
        "colab": {
          "base_uri": "https://localhost:8080/",
          "height": 67
        }
      },
      "source": [
        "from sklearn.metrics import confusion_matrix\n",
        "confusion_matrix = confusion_matrix(y_test, y_pred)\n",
        "\n",
        "Nor_cfmat = confusion_matrix/ confusion_matrix.astype(np.float).sum(axis=0)\n",
        "df_q10 = pd.DataFrame(Nor_cfmat, index = ['Predicted Not Default', 'Predicted Default'], columns = ['Actual Not Default', 'Actual Default'])\n",
        "print(df_q10)"
      ],
      "execution_count": 0,
      "outputs": [
        {
          "output_type": "stream",
          "text": [
            "                       Actual Not Default  Actual Default\n",
            "Predicted Not Default            0.731048        0.518519\n",
            "Predicted Default                0.268952        0.481481\n"
          ],
          "name": "stdout"
        }
      ]
    },
    {
      "cell_type": "code",
      "metadata": {
        "colab_type": "code",
        "id": "DRiEHufJ6FC6",
        "outputId": "02104e96-df75-49db-ccc4-6692e80a8e44",
        "colab": {
          "base_uri": "https://localhost:8080/",
          "height": 168
        }
      },
      "source": [
        "from sklearn.metrics import classification_report\n",
        "print(classification_report(y_test, y_pred))"
      ],
      "execution_count": 0,
      "outputs": [
        {
          "output_type": "stream",
          "text": [
            "              precision    recall  f1-score   support\n",
            "\n",
            "           0       0.73      1.00      0.84     16185\n",
            "           1       0.48      0.01      0.01      5978\n",
            "\n",
            "    accuracy                           0.73     22163\n",
            "   macro avg       0.61      0.50      0.43     22163\n",
            "weighted avg       0.66      0.73      0.62     22163\n",
            "\n"
          ],
          "name": "stdout"
        }
      ]
    },
    {
      "cell_type": "markdown",
      "metadata": {
        "colab_type": "text",
        "id": "y4y5Rlw1ckRu"
      },
      "source": [
        "\n",
        "#Q11\n"
      ]
    },
    {
      "cell_type": "markdown",
      "metadata": {
        "colab_type": "text",
        "id": "Uf0OHgrYcoQ8"
      },
      "source": [
        "11. (10 points) Lastly, we will do a proper out-of-sample test of your models, which is the challenge\n",
        "you would encounter in the real world. For that purpose, t or train your Logistic, LDA and 50-NN\n",
        "models on the data from Part I (with undersampling), and test them on the datasets (a) and (b) for\n",
        "Part II (no undersampling - why?). Report the AUC for the three models below. Within each dataset,\n",
        "compare the relative performance of the three models with your previous results and discuss. Do you\n",
        "nd overall di erences in performance across datasets? Discuss.\n",
        "\n"
      ]
    },
    {
      "cell_type": "code",
      "metadata": {
        "colab_type": "code",
        "id": "BhWJOb75cpLz",
        "colab": {}
      },
      "source": [
        "df2=pd.read_csv('/Users/wuyating/Desktop/Assignment/Loan_data_part_II_a.csv')\n",
        "df2[\"home_ownership\"]=df2[\"home_ownership\"].astype(\"category\")\n",
        "df2[\"purpose\"]=df2[\"purpose\"].astype(\"category\")\n",
        "df2[\"sub_grade\"]=df2[\"sub_grade\"].astype(\"category\")\n",
        "df2[\"verification_status\"]=df2[\"verification_status\"].astype(\"category\")\n",
        "df2[\"loan_status\"]=np.where(df2[\"loan_status\"] == 'Fail',\"1\",\"0\")\n",
        "df2[\"loan_status\"]=df2[\"loan_status\"].astype(\"category\")\n",
        "df2.dtypes"
      ],
      "execution_count": 0,
      "outputs": []
    },
    {
      "cell_type": "code",
      "metadata": {
        "id": "fciLBL_r-ULg",
        "colab_type": "code",
        "colab": {}
      },
      "source": [
        "trainX=features\n",
        "trainy=y\n",
        "testX=df2.iloc[:,df2.columns!=\"loan_status\"]\n",
        "testy=df2[\"loan_status\"]"
      ],
      "execution_count": 0,
      "outputs": []
    },
    {
      "cell_type": "code",
      "metadata": {
        "id": "E30KOTPb-ULi",
        "colab_type": "code",
        "colab": {}
      },
      "source": [
        "from sklearn.linear_model import LogisticRegression\n",
        "model_dict4 = {\n",
        "    'LDA':LinearDiscriminantAnalysis()\n",
        "    ,'KNN':KNeighborsClassifier(n_neighbors=50)\n",
        "    ,'LogReg':LogisticRegression()\n",
        "}"
      ],
      "execution_count": 0,
      "outputs": []
    },
    {
      "cell_type": "code",
      "metadata": {
        "id": "WWVQ3FSn-ULk",
        "colab_type": "code",
        "colab": {}
      },
      "source": [
        "for model in model_dict4:\n",
        "  # calculate the fpr and tpr for all thresholds of the classification\n",
        "  pipe_lr = Pipeline([('sc',StandardScaler()),\n",
        "           ('clf',model_dict4[model])\n",
        "           ])\n",
        "  \n",
        "  probs = pipe_lr.fit(trainX,trainy).predict_proba(testX)\n",
        "  preds = probs[:,1]\n",
        "  fpr, tpr, threshold = metrics.roc_curve(testy, preds, pos_label=\"1\")\n",
        "  roc_auc = metrics.auc(fpr, tpr)\n",
        "  print('AUC: %.5f' % roc_auc)\n",
        "  # method I: plt\n",
        "\n",
        "  plt.title('Receiver Operating Characteristic')\n",
        "  plt.plot(fpr, tpr, 'b', label = 'AUC = %0.2f' % roc_auc)\n",
        "  plt.legend(loc = 'lower right')\n",
        "  plt.plot([0, 1], [0, 1],'r--')\n",
        "  plt.xlim([0, 1])\n",
        "  plt.ylim([0, 1])\n",
        "  plt.ylabel('True Positive Rate')\n",
        "  plt.xlabel('False Positive Rate')\n",
        "  plt.show()\n"
      ],
      "execution_count": 0,
      "outputs": []
    },
    {
      "cell_type": "code",
      "metadata": {
        "id": "IxJp7NGg-ULm",
        "colab_type": "code",
        "colab": {}
      },
      "source": [
        "df3=pd.read_csv('/Users/wuyating/Desktop/Assignment/Loan_data_part_II_b.csv')\n",
        "df3[\"home_ownership\"]=df3[\"home_ownership\"].astype(\"category\")\n",
        "df3[\"purpose\"]=df3[\"purpose\"].astype(\"category\")\n",
        "df3[\"sub_grade\"]=df3[\"sub_grade\"].astype(\"category\")\n",
        "df3[\"verification_status\"]=df3[\"verification_status\"].astype(\"category\")\n",
        "df3[\"loan_status\"]=np.where(df3[\"loan_status\"] == 'Fail',\"1\",\"0\")\n",
        "df3[\"loan_status\"]=df3[\"loan_status\"].astype(\"category\")\n",
        "df3.dtypes"
      ],
      "execution_count": 0,
      "outputs": []
    },
    {
      "cell_type": "code",
      "metadata": {
        "id": "jEeQcmjp-ULo",
        "colab_type": "code",
        "colab": {}
      },
      "source": [
        "trainX=features\n",
        "trainy=y\n",
        "testX=df3.iloc[:,df2.columns!=\"loan_status\"]\n",
        "testy=df3[\"loan_status\"]"
      ],
      "execution_count": 0,
      "outputs": []
    },
    {
      "cell_type": "code",
      "metadata": {
        "id": "pPXRkPB7-ULr",
        "colab_type": "code",
        "colab": {}
      },
      "source": [
        "for model in model_dict4:\n",
        "  # calculate the fpr and tpr for all thresholds of the classification\n",
        "  pipe_lr = Pipeline([('sc',StandardScaler()),\n",
        "           ('clf',model_dict4[model])\n",
        "           ])\n",
        "  \n",
        "  probs = pipe_lr.fit(trainX,trainy).predict_proba(testX)\n",
        "  preds = probs[:,1]\n",
        "  fpr, tpr, threshold = metrics.roc_curve(testy, preds, pos_label=\"1\")\n",
        "  roc_auc = metrics.auc(fpr, tpr)\n",
        "  print('AUC: %.5f' % roc_auc)\n",
        "  # method I: plt\n",
        "\n",
        "  plt.title('Receiver Operating Characteristic')\n",
        "  plt.plot(fpr, tpr, 'b', label = 'AUC = %0.2f' % roc_auc)\n",
        "  plt.legend(loc = 'lower right')\n",
        "  plt.plot([0, 1], [0, 1],'r--')\n",
        "  plt.xlim([0, 1])\n",
        "  plt.ylim([0, 1])\n",
        "  plt.ylabel('True Positive Rate')\n",
        "  plt.xlabel('False Positive Rate')\n",
        "  plt.show()\n"
      ],
      "execution_count": 0,
      "outputs": []
    }
  ]
}